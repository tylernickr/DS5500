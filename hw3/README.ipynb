{
 "cells": [
  {
   "cell_type": "markdown",
   "metadata": {},
   "source": [
    "# Homework 3\n",
    "\n",
    "### Nick Tyler"
   ]
  },
  {
   "cell_type": "code",
   "execution_count": 45,
   "metadata": {},
   "outputs": [],
   "source": [
    "import pandas as pd\n",
    "import numpy as np\n",
    "import matplotlib.pyplot as plt\n",
    "from re import match\n",
    "pd.options.mode.chained_assignment = None"
   ]
  },
  {
   "cell_type": "code",
   "execution_count": 46,
   "metadata": {},
   "outputs": [
    {
     "name": "stderr",
     "output_type": "stream",
     "text": [
      "/home/nick/anaconda3/lib/python3.6/site-packages/IPython/core/interactiveshell.py:2785: DtypeWarning: Columns (0,3) have mixed types. Specify dtype option on import or set low_memory=False.\n",
      "  interactivity=interactivity, compiler=compiler, result=result)\n",
      "/home/nick/anaconda3/lib/python3.6/site-packages/IPython/core/interactiveshell.py:2785: DtypeWarning: Columns (17) have mixed types. Specify dtype option on import or set low_memory=False.\n",
      "  interactivity=interactivity, compiler=compiler, result=result)\n"
     ]
    }
   ],
   "source": [
    "fiscal_data = pd.read_csv('./data/Sdf16_1a.txt', sep='\\t')\n",
    "fiscal_data['LEAID'] = fiscal_data['LEAID'].astype(str)\n",
    "math_data = pd.read_csv('./data/math_data.csv')\n",
    "math_data['LEAID'] = math_data['LEAID'].astype(str)\n",
    "all_data = pd.merge(fiscal_data, math_data, on='LEAID')"
   ]
  },
  {
   "cell_type": "markdown",
   "metadata": {},
   "source": [
    "## Problem 1"
   ]
  },
  {
   "cell_type": "code",
   "execution_count": 47,
   "metadata": {},
   "outputs": [
    {
     "name": "stdout",
     "output_type": "stream",
     "text": [
      "Federal Funding Recieved\n",
      "1 Texas: 6194317000\n",
      "2 New York: 3374794000\n",
      "3 Florida: 3147329000\n",
      "4 Illinois: 2334945000\n",
      "5 Pennsylvania: 2037315000\n",
      "6 Ohio: 1837963000\n",
      "7 Georgia: 1815242000\n",
      "8 Michigan: 1731034000\n",
      "9 North Carolina: 1587976000\n",
      "10 Arizona: 1302010000\n",
      "11 New Jersey: 1249741000\n",
      "12 Louisiana: 1115619000\n",
      "13 Washington: 1098332000\n",
      "14 Tennessee: 1096182000\n",
      "15 Virginia: 1058146000\n",
      "16 Indiana: 1015476000\n",
      "17 Missouri: 959978000\n",
      "18 Kentucky: 880296000\n",
      "19 South Carolina: 860867000\n",
      "20 Maryland: 823599000\n",
      "21 Massachusetts: 804595000\n",
      "22 Alabama: 803907000\n",
      "23 Wisconsin: 782647000\n",
      "24 Colorado: 721719000\n",
      "25 Oklahoma: 703225000\n",
      "26 Mississippi: 690724000\n",
      "27 Minnesota: 685055000\n",
      "28 Arkansas: 606946000\n",
      "29 Oregon: 582560000\n",
      "30 New Mexico: 516289000\n",
      "31 Connecticut: 484186000\n",
      "32 Iowa: 464852000\n",
      "33 Kansas: 453922000\n",
      "34 Utah: 419642000\n",
      "35 Nevada: 405789000\n",
      "36 West Virginia: 360283000\n",
      "37 Nebraska: 346826000\n",
      "38 Alaska: 307320000\n",
      "39 Hawaii: 261131000\n",
      "40 Idaho: 248546000\n",
      "41 District of Columbia: 226202000\n",
      "42 Montana: 220340000\n",
      "43 South Dakota: 196644000\n",
      "44 Rhode Island: 188204000\n",
      "45 Maine: 186523000\n",
      "46 New Hampshire: 169166000\n",
      "47 North Dakota: 155453000\n",
      "48 Delaware: 144707000\n",
      "49 Wyoming: 123012000\n",
      "50 Vermont: 111891000\n"
     ]
    },
    {
     "data": {
      "image/png": "[encoded data removed]",
      "text/plain": [
       "<Figure size 432x288 with 1 Axes>"
      ]
     },
     "metadata": {},
     "output_type": "display_data"
    },
    {
     "name": "stdout",
     "output_type": "stream",
     "text": [
      "Total Spending Per Student\n",
      "1 New York: 25235.0\n",
      "2 Vermont: 24373.0\n",
      "3 New Jersey: 21641.0\n",
      "4 Wyoming: 21479.0\n",
      "5 Connecticut: 20977.0\n",
      "6 Alaska: 19800.0\n",
      "7 Pennsylvania: 19216.0\n",
      "8 Massachusetts: 18335.0\n",
      "9 North Dakota: 18093.0\n",
      "10 Rhode Island: 17896.0\n",
      "11 New Hampshire: 17407.0\n",
      "12 Delaware: 16452.0\n",
      "13 Illinois: 16293.0\n",
      "14 Maryland: 15907.0\n",
      "15 Minnesota: 15699.0\n",
      "16 Maine: 15377.0\n",
      "17 Hawaii: 15017.0\n",
      "18 Nebraska: 14687.0\n",
      "19 Ohio: 14287.0\n",
      "20 Washington: 14048.0\n",
      "21 California: 13738.0\n",
      "22 Iowa: 13725.0\n",
      "23 Wisconsin: 13585.0\n",
      "24 Michigan: 13086.0\n",
      "25 Oregon: 13016.0\n",
      "26 Montana: 12955.0\n",
      "27 Virginia: 12854.0\n",
      "28 Louisiana: 12409.0\n",
      "29 Kansas: 12373.0\n",
      "30 South Carolina: 12292.0\n",
      "31 West Virginia: 12239.0\n",
      "32 Missouri: 11972.0\n",
      "33 New Mexico: 11580.0\n",
      "34 Texas: 11575.0\n",
      "35 Indiana: 11468.0\n",
      "36 Kentucky: 11341.0\n",
      "37 Arkansas: 11267.0\n",
      "38 Colorado: 11186.0\n",
      "39 Georgia: 11017.0\n",
      "40 South Dakota: 11012.0\n",
      "41 Alabama: 10575.0\n",
      "42 Florida: 10008.0\n",
      "43 Nevada: 9850.0\n",
      "44 Tennessee: 9679.0\n",
      "45 North Carolina: 9652.0\n",
      "46 Mississippi: 9507.0\n",
      "47 Oklahoma: 9116.0\n",
      "48 Arizona: 8640.0\n",
      "49 Utah: 8303.0\n",
      "50 Idaho: 7574.0\n"
     ]
    }
   ],
   "source": [
    "state_fed_rev = fiscal_data[[\"STNAME\", \"TFEDREV\"]].query('TFEDREV>0')\n",
    "state_fed_rev = state_fed_rev.groupby([\"STNAME\"]).sum().reset_index()\n",
    "state_fed_rev = state_fed_rev.sort_values(by=\"TFEDREV\", ascending=False)\n",
    "print(\"Federal Funding Recieved\")\n",
    "for i in range(1, 51):\n",
    "    name, value = state_fed_rev.values[i]\n",
    "    print(str(i) + \" \" + name + \": \" + str(value))\n",
    "    \n",
    "states = state_fed_rev['STNAME'].values\n",
    "revs = state_fed_rev['TFEDREV'].values\n",
    "plt.bar(np.arange(len(states)), revs)\n",
    "plt.xlabel(\"State Rank\")\n",
    "plt.ylabel(\"Fed Funds Recieved ($)\")\n",
    "plt.show()\n",
    "\n",
    "state_spend = fiscal_data[[\"STNAME\", \"TOTALEXP\", \"V33\"]].groupby(['STNAME']).sum().reset_index()\n",
    "state_spend['SPENDPCAP'] = round(state_spend['TOTALEXP'] / state_spend['V33'])\n",
    "state_spend = state_spend.sort_values(by='SPENDPCAP', ascending=False)[['STNAME', 'SPENDPCAP']]\n",
    "print(\"Total Spending Per Student\")\n",
    "for i in range(1, 51):\n",
    "    name, value = state_spend.values[i]\n",
    "    print(str(i) + \" \" + name + \": \" + str(value))"
   ]
  },
  {
   "cell_type": "markdown",
   "metadata": {},
   "source": [
    "## Problem 2"
   ]
  },
  {
   "cell_type": "code",
   "execution_count": 48,
   "metadata": {},
   "outputs": [
    {
     "data": {
      "image/png": "[encoded data removed]",
      "text/plain": [
       "<Figure size 432x288 with 1 Axes>"
      ]
     },
     "metadata": {},
     "output_type": "display_data"
    },
    {
     "name": "stdout",
     "output_type": "stream",
     "text": [
      "Districts with most debt:\n",
      "1 Los Angeles Unified: 11037753000\n",
      "2 City of Chicago SD 299: 7449000000\n",
      "3 San Diego Unified: 3404587000\n",
      "4 DADE: 3360733000\n",
      "5 HOUSTON ISD: 3228418000\n",
      "6 DALLAS ISD: 3110617000\n",
      "7 Philadelphia City SD: 2989333000\n",
      "8 CLARK COUNTY SCHOOL DISTRICT: 2592841000\n",
      "9 CYPRESS-FAIRBANKS ISD: 2377539000\n",
      "10 NORTHSIDE ISD: 2234987000\n"
     ]
    }
   ],
   "source": [
    "distr_fins = fiscal_data[['LEAID', 'TOTALREV', 'TOTALEXP']].query('TOTALREV>0')\n",
    "distr_fins['SPENDOFREV'] = distr_fins['TOTALEXP'] / distr_fins['TOTALREV']\n",
    "spend_percents = distr_fins['SPENDOFREV'].values\n",
    "plt.hist(spend_percents, bins=25, range=(.5, 2))\n",
    "plt.xlabel(\"Spending as a Proportion of Revenues\")\n",
    "plt.ylabel(\"District Count\")\n",
    "plt.show()\n",
    "\n",
    "distr_debts = fiscal_data[['NAME', '_41F', '_66V']].copy()\n",
    "distr_debts['TOTALDEBT'] = distr_debts['_41F'] + distr_debts['_66V']\n",
    "distr_debts = distr_debts.sort_values(by='TOTALDEBT', ascending=False)[['NAME', 'TOTALDEBT']]\n",
    "print(\"Districts with most debt:\")\n",
    "for i in range(1, 11):\n",
    "    name, debt = distr_debts.values[i]\n",
    "    print(str(i) + \" \" + name + \": \" + str(debt))\n"
   ]
  },
  {
   "cell_type": "markdown",
   "metadata": {},
   "source": [
    "## Problem 3"
   ]
  },
  {
   "cell_type": "code",
   "execution_count": 50,
   "metadata": {},
   "outputs": [
    {
     "data": {
      "image/png": "[encoded data removed]",
      "text/plain": [
       "<Figure size 432x288 with 1 Axes>"
      ]
     },
     "metadata": {},
     "output_type": "display_data"
    }
   ],
   "source": [
    "'''\n",
    "This function iterates through the column of\n",
    "the dataframe that is passed in and specified\n",
    "and turns any range of numbers into an average\n",
    "of the numbers in that range. For values that use\n",
    "greater than or less than, the range becomes the number \n",
    "given, and then either 0 or 100 depending on the sign (<,>)\n",
    "'''\n",
    "def unblurr_col(dframe, colname):\n",
    "    rgx = '([a-zA-Z]*)(\\d*)(-*)(\\d*)'\n",
    "    col_data = dframe[[colname]].copy()\n",
    "    for i in range(len(col_data)):\n",
    "        val = col_data.iloc[i][0]\n",
    "        mobj = match(rgx, val)\n",
    "        \n",
    "        ltgt, num1, hyph, num2 = mobj.groups()\n",
    "        num1 = int(num1)\n",
    "        if ltgt in ['LT', 'LE']:\n",
    "            num2 = 0\n",
    "        elif ltgt in ['GT', 'GE']:\n",
    "            num2 = 100\n",
    "        elif num2 == '':\n",
    "            num2 = num1\n",
    "        else:\n",
    "            num2 = int(num2)\n",
    "        final_num = round((num1 + num2) / 2)\n",
    "        col_data.iloc[i][0] = final_num\n",
    "    dframe[colname] = col_data\n",
    "        \n",
    "math_scores = math_data.query('ALL_MTH00PCTPROF_1516!=\\'PS\\'')\n",
    "unblurr_col(math_scores, 'ALL_MTH00PCTPROF_1516')\n",
    "scores = list(math_scores['ALL_MTH00PCTPROF_1516'].values)\n",
    "plt.hist(scores, bins=20)\n",
    "plt.xlabel(\"% of Students Scoring Proficient in Math\")\n",
    "plt.ylabel(\"Count of Districts\")\n",
    "plt.show()\n"
   ]
  },
  {
   "cell_type": "markdown",
   "metadata": {},
   "source": [
    "## Problem 4"
   ]
  },
  {
   "cell_type": "code",
   "execution_count": 61,
   "metadata": {},
   "outputs": [
    {
     "name": "stdout",
     "output_type": "stream",
     "text": [
      "Total US Fed Budget:\n",
      "55602742000\n",
      "15% of US Budget:\n",
      "8340411300\n",
      "     LEAID         TOCUT\n",
      "0   100005  0.000000e+00\n",
      "1   100006  0.000000e+00\n",
      "2   100007  2.869008e+06\n",
      "3   100008  2.359580e+06\n",
      "4   100011  0.000000e+00\n",
      "5   100012  0.000000e+00\n",
      "6   100013  4.575898e+05\n",
      "7   100030  0.000000e+00\n",
      "8   100060  0.000000e+00\n",
      "9   100090  0.000000e+00\n",
      "10  100100  7.276196e+05\n",
      "11  100120  0.000000e+00\n",
      "12  100180  0.000000e+00\n",
      "13  100185  9.646615e+05\n",
      "14  100188  0.000000e+00\n",
      "15  100189  5.410021e+05\n",
      "16  100190  2.000011e+06\n",
      "17  100194  0.000000e+00\n",
      "18  100195  0.000000e+00\n",
      "19  100210  2.092378e+06\n"
     ]
    }
   ],
   "source": [
    "budget = fiscal_data.query('TFEDREV>0')['TFEDREV'].values.sum()\n",
    "print(\"Total US Fed Budget:\")\n",
    "print(budget)\n",
    "budget = int(round(.15 * budget))\n",
    "print(\"15% of US Budget:\")\n",
    "print(budget)\n",
    "cut_data = all_data.query('ALL_MTH00PCTPROF_1516!=\\'PS\\'')\n",
    "unblurr_col(cut_data, 'ALL_MTH00PCTPROF_1516')\n",
    "median_score = int(cut_data['ALL_MTH00PCTPROF_1516'].median())\n",
    "cutoff = median_score + 5\n",
    "tot_rev_outperf = cut_data.query(\n",
    "    'ALL_MTH00PCTPROF_1516>' + str(cutoff)\n",
    ")['TFEDREV'].sum()\n",
    "cut_perc = budget / tot_rev_outperf\n",
    "cut_data['TOCUT'] = cut_data['TFEDREV']\n",
    "cut_data.loc[cut_data['ALL_MTH00PCTPROF_1516'] <= cutoff, 'TOCUT'] = 0\n",
    "cut_data.loc[\n",
    "    cut_data['ALL_MTH00PCTPROF_1516'] > cutoff, 'TOCUT'\n",
    "] = cut_data.loc[\n",
    "    cut_data['ALL_MTH00PCTPROF_1516'] > cutoff, 'TOCUT'\n",
    "].copy() * (cut_perc)\n",
    "\n",
    "print(cut_data[['LEAID', 'TOCUT']].head(20))"
   ]
  },
  {
   "cell_type": "markdown",
   "metadata": {},
   "source": [
    "## Problem 5\n",
    "\n",
    "Please see the above federal funding cuts for the US school districts listed by LEAID. These cuts were done based on performances on the most recently available data on standardized mathmatics testing. Districts that were high performing schools were considered to be those that scored higher than 5 points than the median district in terms of percentage of students scoring proficient or better on these tests. \n",
    "\n",
    "We are cutting funding only to the districts in this high performance basket. The premise for this logic is that higher performing districts are achieving above average scores relative to their peers, and we are more comfortable with schools moving from above average to average as compared with average to below average or below average to terrible. After determining the amount that needed to be cut from the budget, the districts in the high performing basket will be cut by this total amount, proportinate to the amount of funding they currently receive relative to the other high performing schools.\n"
   ]
  },
  {
   "cell_type": "code",
   "execution_count": null,
   "metadata": {},
   "outputs": [],
   "source": []
  }
 ],
 "metadata": {
  "kernelspec": {
   "display_name": "Python 3",
   "language": "python",
   "name": "python3"
  },
  "language_info": {
   "codemirror_mode": {
    "name": "ipython",
    "version": 3
   },
   "file_extension": ".py",
   "mimetype": "text/x-python",
   "name": "python",
   "nbconvert_exporter": "python",
   "pygments_lexer": "ipython3",
   "version": "3.6.5"
  }
 },
 "nbformat": 4,
 "nbformat_minor": 2
}
